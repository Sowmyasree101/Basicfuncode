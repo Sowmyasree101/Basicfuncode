{
 "cells": [
  {
   "cell_type": "markdown",
   "metadata": {},
   "source": [
    "# Invisiblility through opencv"
   ]
  },
  {
   "cell_type": "markdown",
   "metadata": {},
   "source": [
    "#### This code is applicable for red color, For other colors, code can be modified(color value change)"
   ]
  },
  {
   "cell_type": "code",
   "execution_count": 4,
   "metadata": {},
   "outputs": [],
   "source": [
    "import cv2 as cv\n",
    "import numpy as np"
   ]
  },
  {
   "cell_type": "code",
   "execution_count": 7,
   "metadata": {},
   "outputs": [],
   "source": [
    "capture_video = cv.VideoCapture(0)\n",
    "return_val , background = capture_video.read()\n",
    "background = np.flip(background, axis=1)\n",
    "while True : \n",
    "    _,img = capture_video.read()\n",
    "    img = np.flip(img, axis = 1)\n",
    "    hsv = cv.cvtColor(img, cv.COLOR_BGR2HSV) \n",
    "    \n",
    "    lower_red = np.array([100, 40, 40])        \n",
    "    upper_red = np.array([100, 255, 255]) \n",
    "    mask1 = cv.inRange(hsv, lower_red, upper_red) \n",
    "    \n",
    "    lower_red = np.array([155, 40, 40]) \n",
    "    upper_red = np.array([180, 255, 255]) \n",
    "    mask2 = cv.inRange(hsv, lower_red, upper_red) \n",
    "    \n",
    "    mask1 = mask1+mask2\n",
    "    mask1 = cv.morphologyEx(mask1, cv.MORPH_OPEN, np.ones((3, 3), np.uint8), iterations = 2)\n",
    "    mask1 = cv.dilate(mask1, np.ones((3, 3), np.uint8), iterations = 1) \n",
    "    mask2 = cv.bitwise_not(mask1) \n",
    "    \n",
    "    res1 = cv.bitwise_and(background,background, mask = mask1) \n",
    "    res2 = cv.bitwise_and(img, img, mask = mask2) \n",
    "    final_output = cv.addWeighted(res1, 1, res2, 1, 0) \n",
    "    cv.imshow(\"INVISIBLE MAN\", final_output) \n",
    "    if cv.waitKey(1)==ord('c') :\n",
    "        break\n",
    "capture_video.release()\n",
    "cv.destroyAllWindows()"
   ]
  },
  {
   "cell_type": "code",
   "execution_count": null,
   "metadata": {},
   "outputs": [],
   "source": []
  }
 ],
 "metadata": {
  "kernelspec": {
   "display_name": "Python 3",
   "language": "python",
   "name": "python3"
  },
  "language_info": {
   "codemirror_mode": {
    "name": "ipython",
    "version": 3
   },
   "file_extension": ".py",
   "mimetype": "text/x-python",
   "name": "python",
   "nbconvert_exporter": "python",
   "pygments_lexer": "ipython3",
   "version": "3.7.4"
  }
 },
 "nbformat": 4,
 "nbformat_minor": 2
}
