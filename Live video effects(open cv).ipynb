{
 "cells": [
  {
   "cell_type": "code",
   "execution_count": 1,
   "metadata": {},
   "outputs": [],
   "source": [
    "import cv2 as cv\n",
    "import numpy as np\n",
    "import imutils"
   ]
  },
  {
   "cell_type": "code",
   "execution_count": null,
   "metadata": {},
   "outputs": [],
   "source": [
    "video = cv.VideoCapture(r'C:\\Users\\91984\\Downloads\\filmclg.mp4')\n",
    "fourcc = cv.VideoWriter_fourcc('m','p','4','v')\n",
    "out = cv.VideoWriter('FILMCLG1.avi',fourcc,10.0,(640,480))\n",
    "result = video.isOpened()\n",
    "while True :\n",
    "    ret,frame = video.read()\n",
    "    if(ret==True):cc\n",
    "        #roi = frame[200:638, 450:640]\n",
    "        cv.rectangle(frame, (500, 240), (635, 350), (0, 0, 0), -1)\n",
    "        cv.imshow('swomya',frame)\n",
    "        out.write(frame)\n",
    "        if cv.waitKey(1)==ord('q') :\n",
    "            break\n",
    "    elif cv.waitKey(1)==ord('c') :\n",
    "            break\n",
    "video.release()\n",
    "cv.destroyAllWindows()\n",
    "print(result)"
   ]
  },
  {
   "cell_type": "code",
   "execution_count": null,
   "metadata": {},
   "outputs": [],
   "source": []
  },
  {
   "cell_type": "code",
   "execution_count": 2,
   "metadata": {},
   "outputs": [
    {
     "data": {
      "text/plain": [
       "True"
      ]
     },
     "execution_count": 2,
     "metadata": {},
     "output_type": "execute_result"
    }
   ],
   "source": [
    "video = cv.VideoCapture(0)\n",
    "result = video.isOpened()\n",
    "while True :\n",
    "    ret,frame = video.read()\n",
    "    if(ret==True):\n",
    "        framegray = cv.cvtColor(frame,cv.COLOR_BGR2HSV)\n",
    "        cv.imshow('video',framegray)\n",
    "        if cv.waitKey(1)==ord('c') :\n",
    "            break\n",
    "video.release()\n",
    "cv.destroyAllWindows()\n",
    "cv.imwrite(r'C:\\Users\\91984\\Pictures\\frame.jpeg',framegray)"
   ]
  },
  {
   "cell_type": "code",
   "execution_count": 3,
   "metadata": {},
   "outputs": [
    {
     "name": "stdout",
     "output_type": "stream",
     "text": [
      "480 640\n",
      "921600\n"
     ]
    }
   ],
   "source": [
    "video = cv.VideoCapture(0)\n",
    "result = video.isOpened()\n",
    "while True :\n",
    "    _,frame = video.read()\n",
    "    hsv = cv.cvtColor(frame,cv.COLOR_BGR2HSV)\n",
    "    lowerblue = np.array([110,50,50])\n",
    "    upperblue = np.array([130,255,255])\n",
    "    mask = cv.inRange(hsv,lowerblue,upperblue)\n",
    "    res = cv.bitwise_and(frame,frame,mask = mask)\n",
    "    cv.imshow('frame',frame)\n",
    "    cv.imshow('mask',mask)\n",
    "    cv.imshow('res',res)\n",
    "    if cv.waitKey(1)==ord('c') :\n",
    "        break\n",
    "video.release()\n",
    "cv.destroyAllWindows()\n",
    "print(frame.shape[0],frame.shape[1])\n",
    "print(frame.size)"
   ]
  },
  {
   "cell_type": "code",
   "execution_count": 4,
   "metadata": {},
   "outputs": [
    {
     "name": "stdout",
     "output_type": "stream",
     "text": [
      "(480, 640, 3)\n"
     ]
    }
   ],
   "source": [
    "pic =  cv.imread(r'C:\\Users\\91984\\Pictures\\Rainbow-Rose.jpg')\n",
    "pic1 = cv.resize(pic,(640,480))\n",
    "cv.imshow('pic1',pic1)\n",
    "cv.waitKey()\n",
    "cv.destroyAllWindows()\n",
    "print(pic1.shape)"
   ]
  },
  {
   "cell_type": "code",
   "execution_count": 5,
   "metadata": {},
   "outputs": [],
   "source": [
    "mehsv = cv.imread(r'C:\\Users\\91984\\Pictures\\mee.jpeg')"
   ]
  },
  {
   "cell_type": "code",
   "execution_count": 6,
   "metadata": {},
   "outputs": [
    {
     "data": {
      "text/plain": [
       "(480, 640, 3)"
      ]
     },
     "execution_count": 6,
     "metadata": {},
     "output_type": "execute_result"
    }
   ],
   "source": [
    "mehsv.shape"
   ]
  },
  {
   "cell_type": "markdown",
   "metadata": {},
   "source": [
    "## Blended video"
   ]
  },
  {
   "cell_type": "code",
   "execution_count": 7,
   "metadata": {},
   "outputs": [
    {
     "data": {
      "text/plain": [
       "(480, 640, 3)"
      ]
     },
     "execution_count": 7,
     "metadata": {},
     "output_type": "execute_result"
    }
   ],
   "source": [
    "video = cv.VideoCapture(0)\n",
    "result = video.isOpened()\n",
    "\n",
    "while True :\n",
    "    _,frame = video.read()\n",
    "   \n",
    "    mix = cv.addWeighted(frame,0.9,pic1,0.9,0)\n",
    "    \n",
    "    cv.imshow('video',mix)\n",
    "    if cv.waitKey(1)==ord('c') :\n",
    "        break\n",
    "\n",
    "video.release()\n",
    "cv.destroyAllWindows()\n",
    "frame.shape"
   ]
  },
  {
   "cell_type": "markdown",
   "metadata": {},
   "source": [
    "## Edging video"
   ]
  },
  {
   "cell_type": "code",
   "execution_count": 8,
   "metadata": {},
   "outputs": [],
   "source": [
    "video = cv.VideoCapture(0)\n",
    "result = video.isOpened()\n",
    "\n",
    "while True : \n",
    "    _,frame = video.read()\n",
    "    gray = cv.cvtColor(frame,cv.COLOR_BGR2GRAY)\n",
    "    edged = cv.Canny(gray, 30, 150)\n",
    "    cv.imshow('Somethng',edged)\n",
    "    if cv.waitKey(1)==ord('c') :\n",
    "        break\n",
    "video.release()\n",
    "cv.destroyAllWindows()"
   ]
  },
  {
   "cell_type": "code",
   "execution_count": 9,
   "metadata": {},
   "outputs": [],
   "source": [
    "video1 = cv.VideoCapture(0)\n",
    "result = video1.isOpened()\n",
    "\n",
    "while True : \n",
    "    _,frame = video1.read()\n",
    "    thresh = cv.threshold(frame, 100, 255, cv.THRESH_BINARY_INV)[1]\n",
    "    cv.imshow('Somethng',thresh)\n",
    "    if cv.waitKey(1)==ord('c') :\n",
    "        break\n",
    "video1.release()\n",
    "cv.destroyAllWindows()"
   ]
  },
  {
   "cell_type": "code",
   "execution_count": 10,
   "metadata": {},
   "outputs": [],
   "source": [
    "import imutils"
   ]
  },
  {
   "cell_type": "markdown",
   "metadata": {},
   "source": [
    "## Blurred video"
   ]
  },
  {
   "cell_type": "code",
   "execution_count": 11,
   "metadata": {},
   "outputs": [],
   "source": [
    "video1 = cv.VideoCapture(0)\n",
    "result = video1.isOpened()\n",
    "\n",
    "while True : \n",
    "    _,frame = video1.read()\n",
    "    blurred = cv.GaussianBlur(frame, (11, 11), 0)\n",
    "    cv.imshow('Somethng',blurred)\n",
    "    if cv.waitKey(1)==ord('c') :\n",
    "        break\n",
    "video1.release()\n",
    "cv.destroyAllWindows()\n",
    "###Larger kernels would yield a more blurry image. Smaller kernels will create less blurry images."
   ]
  },
  {
   "cell_type": "markdown",
   "metadata": {},
   "source": [
    "## Rotated video"
   ]
  },
  {
   "cell_type": "code",
   "execution_count": 12,
   "metadata": {},
   "outputs": [],
   "source": [
    "video1 = cv.VideoCapture(0)\n",
    "result = video1.isOpened()\n",
    "\n",
    "while True : \n",
    "    _,frame = video1.read()\n",
    "    rotated = imutils.rotate_bound(frame, 45)\n",
    "    cv.imshow('Somethng',rotated)\n",
    "    if cv.waitKey(1)==ord('c') :\n",
    "        break\n",
    "video1.release()\n",
    "cv.destroyAllWindows()"
   ]
  },
  {
   "cell_type": "markdown",
   "metadata": {},
   "source": [
    "## ROI video"
   ]
  },
  {
   "cell_type": "code",
   "execution_count": 16,
   "metadata": {},
   "outputs": [],
   "source": [
    "video1 = cv.VideoCapture(0)\n",
    "result = video1.isOpened()\n",
    "\n",
    "while True : \n",
    "    _,frame = video1.read()\n",
    "    roi = frame[260:500, 200:430]\n",
    "    cv.imshow('Somethng',roi)\n",
    "    if cv.waitKey(1)==ord('c') :\n",
    "        break\n",
    "video1.release()\n",
    "cv.destroyAllWindows()"
   ]
  },
  {
   "cell_type": "code",
   "execution_count": 17,
   "metadata": {},
   "outputs": [
    {
     "data": {
      "text/plain": [
       "(480, 640, 3)"
      ]
     },
     "execution_count": 17,
     "metadata": {},
     "output_type": "execute_result"
    }
   ],
   "source": [
    "frame.shape"
   ]
  },
  {
   "cell_type": "markdown",
   "metadata": {},
   "source": [
    "## Video arts "
   ]
  },
  {
   "cell_type": "code",
   "execution_count": 20,
   "metadata": {},
   "outputs": [],
   "source": [
    "video1 = cv.VideoCapture(0)\n",
    "result = video1.isOpened()\n",
    "\n",
    "while True : \n",
    "    _,frame = video1.read()\n",
    "    cv.rectangle(frame, (320, 60), (420, 160), (0, 0, 255), 2)\n",
    "    cv.circle(frame, (300, 150), 20, (255, 0, 0), -1)\n",
    "    cv.line(frame, (60, 20), (400, 200), (0, 0, 255), 5)\n",
    "    img = np.flip(frame, axis = 1)\n",
    "    cv.imshow('Somethng',img)\n",
    "    if cv.waitKey(1)==ord('c') :\n",
    "        break\n",
    "video1.release()\n",
    "cv.destroyAllWindows()"
   ]
  },
  {
   "cell_type": "markdown",
   "metadata": {},
   "source": [
    "## Text on Video"
   ]
  },
  {
   "cell_type": "code",
   "execution_count": 21,
   "metadata": {},
   "outputs": [],
   "source": [
    "video1 = cv.VideoCapture(0)\n",
    "result = video1.isOpened()\n",
    "\n",
    "while True : \n",
    "    _,frame = video1.read()\n",
    "    cv.putText(frame, \"Sowmya,its me\", (300, 200), cv.FONT_HERSHEY_SIMPLEX, 0.7, (0, 255, 0), 2)\n",
    "    cv.imshow('Somethng',frame)\n",
    "    if cv.waitKey(1)==ord('c') :\n",
    "        break\n",
    "video1.release()\n",
    "cv.destroyAllWindows()"
   ]
  },
  {
   "cell_type": "code",
   "execution_count": null,
   "metadata": {},
   "outputs": [],
   "source": [
    "capture_video = cv.VideoCapture(0)\n",
    "return_val , background = capture_video.read()\n",
    "background = np.flip(background, axis=1)\n",
    "while True : \n",
    "    _,img = capture_video.read()\n",
    "    img = np.flip(img, axis = 1)\n",
    "    hsv = cv.cvtColor(img, cv.COLOR_BGR2HSV) \n",
    "    \n",
    "    lower_red = np.array([100, 40, 40])        \n",
    "    upper_red = np.array([100, 255, 255]) \n",
    "    mask1 = cv.inRange(hsv, lower_red, upper_red) \n",
    "    \n",
    "    lower_red = np.array([155, 40, 40]) \n",
    "    upper_red = np.array([180, 255, 255]) \n",
    "    mask2 = cv.inRange(hsv, lower_red, upper_red) \n",
    "    \n",
    "    mask1 = mask1+mask2\n",
    "    mask1 = cv.morphologyEx(mask1, cv.MORPH_OPEN, np.ones((3, 3), np.uint8), iterations = 2)\n",
    "    mask1 = cv.dilate(mask1, np.ones((3, 3), np.uint8), iterations = 1) \n",
    "    mask2 = cv.bitwise_not(mask1) \n",
    "    \n",
    "    res1 = cv.bitwise_and(background,background, mask = mask1) \n",
    "    res2 = cv.bitwise_and(img, img, mask = mask2) \n",
    "    final_output = cv.addWeighted(res1, 1, res2, 1, 0) \n",
    "    cv.imshow(\"INVISIBLE MAN\", final_output) \n",
    "    if cv.waitKey(1)==ord('c') :\n",
    "        break\n",
    "capture_video.release()\n",
    "cv.destroyAllWindows()"
   ]
  },
  {
   "cell_type": "code",
   "execution_count": null,
   "metadata": {},
   "outputs": [],
   "source": [
    "capture_video.release()"
   ]
  },
  {
   "cell_type": "code",
   "execution_count": null,
   "metadata": {},
   "outputs": [],
   "source": []
  }
 ],
 "metadata": {
  "kernelspec": {
   "display_name": "Python 3",
   "language": "python",
   "name": "python3"
  },
  "language_info": {
   "codemirror_mode": {
    "name": "ipython",
    "version": 3
   },
   "file_extension": ".py",
   "mimetype": "text/x-python",
   "name": "python",
   "nbconvert_exporter": "python",
   "pygments_lexer": "ipython3",
   "version": "3.7.4"
  }
 },
 "nbformat": 4,
 "nbformat_minor": 2
}
